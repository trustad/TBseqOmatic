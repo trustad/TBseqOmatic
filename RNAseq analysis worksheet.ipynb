{
 "cells": [
  {
   "cell_type": "markdown",
   "metadata": {},
   "source": [
    "<style>\n",
    "body {\n",
    "        font-family: \"Monaco\", sans-serif;\n",
    "}\n",
    "</style> \n",
    "# Sherman lab RNAseq analysis pipeline\n",
    "_by Tige Rustad\n",
    "    Senior Scientist in the lab of David Sherman at SCRI\n",
    "    Affiliate Assistant Professor in the UW Dept. of Global Health\n",
    "\n",
    "## Why use a Jupyter notebook\n",
    "\n",
    " ***\n",
    " This version of the notebook is focused on presenting the data from a specific experiment I'll describe below. \n",
    " I think I can make this more generally useful, a really Plug-n-Play RNAseq analysis pipeline that\n",
    " can take any log-normal distributed type of data and get a good first pass understanding of what the data tells you.\n",
    " Making that more generic tool will take more time, but if I seem to being doing things in a round-about fashion, \n",
    " that may be why.\n",
    " \n",
    " Also, there are many good basic intros to Jupyter notebooks on YouTube, so I won't go through all that here. \n",
    "***\n",
    "The purpose of this notebook is to walk through the analysis of RNAseq data from a hypoxic time course experiment I'll describe below. Initially this Jupyter notebook was a way for me to keep the code I used for analyzing this experiment along with notes to myself. Then realized I could share this with people in our lab, David in particular, who might get a lot of insight from reading a Jupyter style notebook. I think my notes are surprisingly readable and easy to generate in this format, and it lets you see my notes, the method used, shown in text boxes, and the resulting tables and figures all in a single narrative. More, you can try making changes to the code on the fly. \n",
    "\n",
    "Now I've decided to write this to a more general audience, with an eye toward making this more broadly useful.\n",
    "\n",
    "I should be able to take this whole notebook and post it to myBinder.com so that anyone can use it without having to install _anything_ on their computer other than an internet browser. That is so cool. However if I can't get that to work I can still share this notebook with anyone who has Anaconda installed on their computer, so here are additional installation steps for users running this locally (instead of just looking at the contents on nbviewer or running it from myBinder.com).\n",
    "\n",
    "You will need to to do the following steps:\n",
    "1. Install the __[Anaconda python distribution](https://www.anaconda.com/distribution/)__. This will let you run all of the python scripts, pre-installs the most popular Python libraries, provides Jupyter notebook support, and, like BioConductor for R, is curated to maintain stability.\n",
    "2. Install the Clustergrammer 'widget' so we can generate interactive heatmaps/dendograms.\n",
    "    - First run the 'Anaconda prompt' to open a window where we can install new libraries\n",
    "    - Then run the following commands:\n",
    "        -  conda install -c conda-forge ipywidgets\n",
    "        -  pip install --upgrade clustergrammer_widget\n",
    "        -  jupyter nbextension enable --py --sys-prefix widgetsnbextension\n",
    "        -  jupyter nbextension enable --py --sys-prefix clustergrammer_widget\n",
    "3. The big one. This notebook is designed to be used with __[tidy datasets](https://cran.r-project.org/web/packages/tidyr/vignettes/tidy-data.html)__. That means each row is a different observation, in this case an RNAseq run, and each column is a different variable, here either the expression for a given gene or a column of metadata. \n",
    "\n",
    "\n",
    "This notebook was inspired by the excellent walkthrough of Seaborn plotting __[here](https://www.kaggle.com/mjbahmani/a-comprehensive-ml-workflow-with-python)__ and the __[Zika virus notebook](https://www.ncbi.nlm.nih.gov/pmc/articles/PMC4972086/)__ from the Ma'ayan lab, and when possible I simply borrowed code from those examples.  "
   ]
  },
  {
   "cell_type": "markdown",
   "metadata": {},
   "source": [
    "## Experimental design\n",
    "\n",
    "These data come from an experiment testing the transcriptional impact of perturbing specific transcription factors of _Mycobacerium tuberculosis_ (Mtb), specifically in the context of a hypoxic time course. Oxygen limitation is an environmental stress that arrests growth, alters the drug susceptibility profile, and leads to a complex remodeling of the transcriptome that changes the expression of the majority of the Mtb genes. Hypoxia, or oxygen limitation, is a common in vitro model of Mtb in the latent phase of infection. \n",
    "\n",
    "A prior screen of all of the Mtb transcription factors (TFs) by us identified six TFs that were impaired in their ability to return to active growth when oxygen is returned after 7 days of hypoxia. We have dubbed this set of TFs the Critical Oxygen Response Regulators, or CORRs. \n",
    "\n",
    "#### Simple description\n",
    "\n",
    " - Strains: Each strain is carrying the same TF overexpression plasmid with the only difference being the insert\n",
    "    - Rv0023  - a previously undescribed TF that triggers many of the expression changes triggered by hypoxia when induced\n",
    "    -  Rv0081  - part of the initial hypoxic response, regulon also has large overlap with hypoxic response\n",
    "    -  Rv0353  - HspR, regulator of the heat shock protein chaperones\n",
    "    -  Rv1985c - Several proposed functions for this TF, none confirmed yet, deleted in the vaccine strain BCG\n",
    "    -  Rv2788  - SirR, suggested role as regulator of manganese homeostasis and other stress responses\n",
    "    -  Rv3416  - WhiB3, redox homeostasis regulator, described in multiple papers from Adrie Steyn\n",
    "    -  Empty   - This strain carrys the same plasmid as the others, but there is no TF inserted\n",
    "\n",
    " - Hypoxia: Each strain was taken through a hypoxic time course that begins with log phase growth to hypoxia and reaeration\n",
    "    -  Log\n",
    "    -  Hypoxia\n",
    "    -  Reaeration\n",
    "\n",
    " - Time: After the day 0 sample is taken the culuture is transfered to a flask that has a steady flow of nitrogen with 0.2% oxygen, roughly 1% of atmospheric.\n",
    "    -  Day 0  - Log phase culture\n",
    "    -  Day 2  - Hypoxia\n",
    "    -  Day 4  - Hypoxia\n",
    "    -  Day 7  - Hypoxia. Culture transfered to aerobic rolling flask\n",
    "    -  Day 8  - Reaeration\n",
    "    -  Day 9  - Reaeration\n",
    "    -  Day 10 - Reaeration\n",
    "    -  Day 11 - Reaeration\n",
    "    -  Day 12 - Reaeration. Not present for some strains\n",
    "\n",
    "\n",
    "#### More detail for people with less background in TB research and our prior experiments\n",
    "\n",
    "The strains used in this experiment were made as part of a previous project. They all come from the lab strain H37Rv, often abbreviated 'Rv', and each strain is carrying a plasmid that allows us to induce the overexpression of one of the CORRs. These plasmids have the TF gene downstream of a strong promoter and the TetO operator, which is recognized by the TetR repressor. In the presence of the inducer (anhydrotetracycline or Atc) TetR is removed from the promoter and these strains begin expressing that TF from the plasmid in addition to the native copy in the genome. These TFs have varying levels of baseline expression, but in all cases the given TF becomes one of the most highly expressed genes in the genome. \n",
    "\n",
    "Also note that these TFs have been modified so that they carry a FLAG tag on their C' tail. We don't haven't found an example where the tail has any impact on the TF function, but it is certainly possible that in some cases that extra bit will interfere or modify DNA binding properties. Note- the FLAG tag was used in ChIP experiments to determine the DNA binding profile of each TF.\n",
    "\n",
    "Transcription factors typically change their promoter affinity based on some secondary signal like a small molecule, modifications to the TF by another protein (e.g. phosphorylation by a kinase), or interaction with a partner protein. In this case however we are driving activation of these TFs by mass action, simply overcoming the weak interaction of the TF without the activating signal by generating an excess of TF, some of which will bind to and activate that gene's regulon. \n",
    "\n",
    "Activation of TFs by overexpression could lead to binding and activation of genes not normally regulated by that TF. It's also possible that the the TF may have some impact on the cell other than DNA binding, and these effects could lead to changes in gene expression. "
   ]
  },
  {
   "cell_type": "markdown",
   "metadata": {},
   "source": [
    "## Setup\n",
    "\n",
    "### Import python libraries and initialize global style settings. "
   ]
  },
  {
   "cell_type": "code",
   "execution_count": 1,
   "metadata": {},
   "outputs": [],
   "source": [
    "## import all required python libraries\n",
    "\n",
    "from scipy.spatial.distance import euclidean, pdist, squareform\n",
    "from sklearn.decomposition import PCA\n",
    "from clustergrammer_widget import *\n",
    "import matplotlib.pylab as pylab\n",
    "import matplotlib.pyplot as plt\n",
    "import matplotlib as mpl\n",
    "import seaborn as sns\n",
    "import pandas as pd\n",
    "import numpy as np\n",
    "import matplotlib\n",
    "import sklearn    # do I need?\n",
    "import scipy      # do I need?\n",
    "import numpy\n",
    "import time\n",
    "import json\n",
    "import sys\n",
    "import csv\n",
    "import os"
   ]
  },
  {
   "cell_type": "code",
   "execution_count": null,
   "metadata": {},
   "outputs": [],
   "source": [
    "## libraries not currently used in this notebook\n",
    "## if I finish this and still don't need any of these this block can be removed\n",
    "\n",
    "# from sklearn.metrics import make_scorer, accuracy_score\n",
    "# from sklearn.model_selection import train_test_split\n",
    "# from sklearn.ensemble import RandomForestClassifier\n",
    "# from sklearn.linear_model import LogisticRegression\n",
    "# from sklearn.metrics import classification_report\n",
    "# from sklearn.model_selection import GridSearchCV\n",
    "# from sklearn.metrics import confusion_matrix\n",
    "# from sklearn.metrics import accuracy_score\n",
    "# from sklearn import preprocessing\n",
    "# from pandas import get_dummies\n",
    "# import xgboost as xgb\n",
    "# import warnings"
   ]
  },
  {
   "cell_type": "markdown",
   "metadata": {},
   "source": [
    "We also want to run a few commands to set the style for the following plots. There are many possible styles and palettes"
   ]
  },
  {
   "cell_type": "code",
   "execution_count": 2,
   "metadata": {},
   "outputs": [],
   "source": [
    "## style settings for seaborn, pylab, and matplotlib\n",
    "sns.set(style='white', context='notebook', palette='deep')\n",
    "pylab.rcParams['figure.figsize'] = 12,8\n",
    "mpl.style.use('ggplot')\n",
    "sns.set_style('white')\n",
    "\n",
    "## set so figures show up in the notebook just below the code block\n",
    "%matplotlib inline\n",
    "\n",
    "## limit output to 10 lines\n",
    "pd.set_option('display.max_rows', 10)"
   ]
  },
  {
   "cell_type": "markdown",
   "metadata": {},
   "source": [
    "# Import data\n",
    "In the future I'd like to add the ability to start with raw FASTQ files straight from the sequencers, but that'll take time and I'd rather finish a working version of this notebook first, so we will start with data that has been processed to generate read counts for each gene.\n",
    "\n",
    "We start by loading the RNAseq data into a pandas data frame. Remember that the data being imported __must__ be in 'tidy' format, which makes the importing part so smooth. The python library 'pandas' is is a very useful way of storing data in spreadsheet-like 'panel data', thus the name. Then we will break this table into a table with data and a table with metadata."
   ]
  },
  {
   "cell_type": "code",
   "execution_count": 7,
   "metadata": {},
   "outputs": [
    {
     "name": "stdout",
     "output_type": "stream",
     "text": [
      "This data set is comprised of 186 RNAseq samples, each with 4033 variables\n"
     ]
    },
    {
     "data": {
      "text/html": [
       "<div>\n",
       "<style scoped>\n",
       "    .dataframe tbody tr th:only-of-type {\n",
       "        vertical-align: middle;\n",
       "    }\n",
       "\n",
       "    .dataframe tbody tr th {\n",
       "        vertical-align: top;\n",
       "    }\n",
       "\n",
       "    .dataframe thead th {\n",
       "        text-align: right;\n",
       "    }\n",
       "</style>\n",
       "<table border=\"1\" class=\"dataframe\">\n",
       "  <thead>\n",
       "    <tr style=\"text-align: right;\">\n",
       "      <th></th>\n",
       "      <th>Strain</th>\n",
       "      <th>Day</th>\n",
       "      <th>Oxygen</th>\n",
       "      <th>Rv0001</th>\n",
       "      <th>Rv0002</th>\n",
       "      <th>Rv0003</th>\n",
       "      <th>Rv0004</th>\n",
       "      <th>Rv0005</th>\n",
       "    </tr>\n",
       "  </thead>\n",
       "  <tbody>\n",
       "    <tr>\n",
       "      <th>EmptyPlasmid_D0_H5_R1</th>\n",
       "      <td>EmptyPlasmid</td>\n",
       "      <td>0</td>\n",
       "      <td>Log phase</td>\n",
       "      <td>334</td>\n",
       "      <td>182</td>\n",
       "      <td>148</td>\n",
       "      <td>172</td>\n",
       "      <td>1631</td>\n",
       "    </tr>\n",
       "    <tr>\n",
       "      <th>EmptyPlasmid_D0_H6_R2</th>\n",
       "      <td>EmptyPlasmid</td>\n",
       "      <td>0</td>\n",
       "      <td>Log phase</td>\n",
       "      <td>293</td>\n",
       "      <td>215</td>\n",
       "      <td>142</td>\n",
       "      <td>163</td>\n",
       "      <td>987</td>\n",
       "    </tr>\n",
       "    <tr>\n",
       "      <th>EmptyPlasmid_D0_H7_R3</th>\n",
       "      <td>EmptyPlasmid</td>\n",
       "      <td>0</td>\n",
       "      <td>Log phase</td>\n",
       "      <td>315</td>\n",
       "      <td>252</td>\n",
       "      <td>140</td>\n",
       "      <td>165</td>\n",
       "      <td>1087</td>\n",
       "    </tr>\n",
       "    <tr>\n",
       "      <th>EmptyPlasmid_D0_TC6_R1</th>\n",
       "      <td>EmptyPlasmid</td>\n",
       "      <td>0</td>\n",
       "      <td>Log phase</td>\n",
       "      <td>472</td>\n",
       "      <td>253</td>\n",
       "      <td>124</td>\n",
       "      <td>114</td>\n",
       "      <td>1194</td>\n",
       "    </tr>\n",
       "    <tr>\n",
       "      <th>EmptyPlasmid_D10_H5_R1</th>\n",
       "      <td>EmptyPlasmid</td>\n",
       "      <td>10</td>\n",
       "      <td>Reaearation</td>\n",
       "      <td>379</td>\n",
       "      <td>102</td>\n",
       "      <td>95</td>\n",
       "      <td>95</td>\n",
       "      <td>1120</td>\n",
       "    </tr>\n",
       "  </tbody>\n",
       "</table>\n",
       "</div>"
      ],
      "text/plain": [
       "                              Strain  Day       Oxygen  Rv0001  Rv0002  \\\n",
       "EmptyPlasmid_D0_H5_R1   EmptyPlasmid    0    Log phase     334     182   \n",
       "EmptyPlasmid_D0_H6_R2   EmptyPlasmid    0    Log phase     293     215   \n",
       "EmptyPlasmid_D0_H7_R3   EmptyPlasmid    0    Log phase     315     252   \n",
       "EmptyPlasmid_D0_TC6_R1  EmptyPlasmid    0    Log phase     472     253   \n",
       "EmptyPlasmid_D10_H5_R1  EmptyPlasmid   10  Reaearation     379     102   \n",
       "\n",
       "                        Rv0003  Rv0004  Rv0005  \n",
       "EmptyPlasmid_D0_H5_R1      148     172    1631  \n",
       "EmptyPlasmid_D0_H6_R2      142     163     987  \n",
       "EmptyPlasmid_D0_H7_R3      140     165    1087  \n",
       "EmptyPlasmid_D0_TC6_R1     124     114    1194  \n",
       "EmptyPlasmid_D10_H5_R1      95      95    1120  "
      ]
     },
     "execution_count": 7,
     "metadata": {},
     "output_type": "execute_result"
    }
   ],
   "source": [
    "## import data from a csv file and use the first row as indices, or row names\n",
    "df = pd.read_csv(\"./data/CORRtable.csv\", index_col=0)\n",
    "\n",
    "## use the name of the first column of data to find its index\n",
    "FIRST_DATA_COL = df.columns.get_loc('Rv0001')\n",
    "\n",
    "## Check the size and show a sample of the imported data\n",
    "sample_num, obs_num = df.shape\n",
    "print (f\"This data set is comprised of {sample_num} RNAseq samples, each with {obs_num} variables\")\n",
    "df.iloc[:5,:8]"
   ]
  },
  {
   "cell_type": "markdown",
   "metadata": {},
   "source": [
    "***\n",
    "The first three columns of data contain meta-information about these samples (Strain, Day, and Oxygen) and the remaining columns show the count of reads that align to the given gene per million reads total, or CPM."
   ]
  },
  {
   "cell_type": "markdown",
   "metadata": {},
   "source": [
    "Later on we will want to refer to just the data or just the metadata, so let's create those subtables."
   ]
  },
  {
   "cell_type": "code",
   "execution_count": 75,
   "metadata": {},
   "outputs": [
    {
     "name": "stdout",
     "output_type": "stream",
     "text": [
      "Data table shape: (186, 4030)\n",
      "Meta(data) table shape: (186, 2)\n"
     ]
    },
    {
     "data": {
      "text/html": [
       "<div>\n",
       "<style scoped>\n",
       "    .dataframe tbody tr th:only-of-type {\n",
       "        vertical-align: middle;\n",
       "    }\n",
       "\n",
       "    .dataframe tbody tr th {\n",
       "        vertical-align: top;\n",
       "    }\n",
       "\n",
       "    .dataframe thead th {\n",
       "        text-align: right;\n",
       "    }\n",
       "</style>\n",
       "<table border=\"1\" class=\"dataframe\">\n",
       "  <thead>\n",
       "    <tr style=\"text-align: right;\">\n",
       "      <th></th>\n",
       "      <th>Strain</th>\n",
       "      <th>Day</th>\n",
       "    </tr>\n",
       "  </thead>\n",
       "  <tbody>\n",
       "    <tr>\n",
       "      <th>EmptyPlasmid_D0_H5_R1</th>\n",
       "      <td>EmptyPlasmid</td>\n",
       "      <td>0</td>\n",
       "    </tr>\n",
       "    <tr>\n",
       "      <th>EmptyPlasmid_D0_H6_R2</th>\n",
       "      <td>EmptyPlasmid</td>\n",
       "      <td>0</td>\n",
       "    </tr>\n",
       "    <tr>\n",
       "      <th>EmptyPlasmid_D0_H7_R3</th>\n",
       "      <td>EmptyPlasmid</td>\n",
       "      <td>0</td>\n",
       "    </tr>\n",
       "    <tr>\n",
       "      <th>EmptyPlasmid_D0_TC6_R1</th>\n",
       "      <td>EmptyPlasmid</td>\n",
       "      <td>0</td>\n",
       "    </tr>\n",
       "    <tr>\n",
       "      <th>EmptyPlasmid_D10_H5_R1</th>\n",
       "      <td>EmptyPlasmid</td>\n",
       "      <td>10</td>\n",
       "    </tr>\n",
       "    <tr>\n",
       "      <th>EmptyPlasmid_D10_H6_R2</th>\n",
       "      <td>EmptyPlasmid</td>\n",
       "      <td>10</td>\n",
       "    </tr>\n",
       "    <tr>\n",
       "      <th>EmptyPlasmid_D10_H7_R3</th>\n",
       "      <td>EmptyPlasmid</td>\n",
       "      <td>10</td>\n",
       "    </tr>\n",
       "    <tr>\n",
       "      <th>EmptyPlasmid_D10_TC6_R1</th>\n",
       "      <td>EmptyPlasmid</td>\n",
       "      <td>10</td>\n",
       "    </tr>\n",
       "    <tr>\n",
       "      <th>EmptyPlasmid_D10_TC6_R3</th>\n",
       "      <td>EmptyPlasmid</td>\n",
       "      <td>10</td>\n",
       "    </tr>\n",
       "    <tr>\n",
       "      <th>EmptyPlasmid_D11_H5_R1</th>\n",
       "      <td>EmptyPlasmid</td>\n",
       "      <td>11</td>\n",
       "    </tr>\n",
       "  </tbody>\n",
       "</table>\n",
       "</div>"
      ],
      "text/plain": [
       "                               Strain  Day\n",
       "EmptyPlasmid_D0_H5_R1    EmptyPlasmid    0\n",
       "EmptyPlasmid_D0_H6_R2    EmptyPlasmid    0\n",
       "EmptyPlasmid_D0_H7_R3    EmptyPlasmid    0\n",
       "EmptyPlasmid_D0_TC6_R1   EmptyPlasmid    0\n",
       "EmptyPlasmid_D10_H5_R1   EmptyPlasmid   10\n",
       "EmptyPlasmid_D10_H6_R2   EmptyPlasmid   10\n",
       "EmptyPlasmid_D10_H7_R3   EmptyPlasmid   10\n",
       "EmptyPlasmid_D10_TC6_R1  EmptyPlasmid   10\n",
       "EmptyPlasmid_D10_TC6_R3  EmptyPlasmid   10\n",
       "EmptyPlasmid_D11_H5_R1   EmptyPlasmid   11"
      ]
     },
     "execution_count": 75,
     "metadata": {},
     "output_type": "execute_result"
    }
   ],
   "source": [
    "## split the 'df' dataframe into data and metadata\n",
    "data = df.iloc[:,FIRST_DATA_COL:]\n",
    "meta = df.iloc[:,:FIRST_DATA_COL-1]\n",
    "\n",
    "## take a look at the resulting tables to make sure they look right.\n",
    "print (\"Data table shape:\",data.shape)\n",
    "print (\"Meta(data) table shape:\",meta.shape)\n",
    "\n",
    "meta.iloc[:10,:]"
   ]
  },
  {
   "cell_type": "markdown",
   "metadata": {},
   "source": [
    "Now we want to inspect each column of metadata. We first create vectors containing each element of metadata for use as categories and set up a color palette for each. "
   ]
  },
  {
   "cell_type": "code",
   "execution_count": 53,
   "metadata": {},
   "outputs": [],
   "source": [
    "## let's make a function that plots a quick barplot showing each value and the color assigned to it\n",
    "def paltest (values, test_pal):\n",
    "    paltest = pd.DataFrame(index = values)\n",
    "    paltest['test']=1\n",
    "    plt.subplots(figsize = (1,len(values)))\n",
    "    sns.barplot(y=paltest.index, x=paltest.test, palette = test_pal)"
   ]
  },
  {
   "cell_type": "code",
   "execution_count": 38,
   "metadata": {
    "scrolled": true
   },
   "outputs": [
    {
     "name": "stdout",
     "output_type": "stream",
     "text": [
      "You'll want to set the number of colors to _7_ so that you have one color per unique value.\n"
     ]
    },
    {
     "data": {
      "application/vnd.jupyter.widget-view+json": {
       "model_id": "0b2a50113def4ae9ab0551654252db38",
       "version_major": 2,
       "version_minor": 0
      },
      "text/plain": [
       "interactive(children=(Dropdown(description='name', options=('Set1', 'Set2', 'Set3', 'Paired', 'Accent', 'Paste…"
      ]
     },
     "metadata": {},
     "output_type": "display_data"
    }
   ],
   "source": [
    "## create a list with the strain of each sample and a list with all unique strains\n",
    "strains = df['Strain']\n",
    "unique_strains = np.unique(strains)\n",
    "\n",
    "## Now let's use an interactive color palette selector\n",
    "print(f\"You'll want to set the number of colors to _{len(unique_strains)}_ so that you have one color per unique value.\")\n",
    "strain_pal = sns.choose_colorbrewer_palette('q')"
   ]
  },
  {
   "cell_type": "code",
   "execution_count": 61,
   "metadata": {},
   "outputs": [
    {
     "data": {
      "image/png": "[encoded data removed]",
      "text/plain": [
       "<Figure size 72x504 with 1 Axes>"
      ]
     },
     "metadata": {
      "needs_background": "light"
     },
     "output_type": "display_data"
    }
   ],
   "source": [
    "## once color map is selected, we make a 'look-up-table' that tells us what color to map to each value\n",
    "## then make a table that has the color for each sample, based on the strain.\n",
    "strain_lut = dict(zip(unique_strains, strain_pal))\n",
    "strain_cols = pd.Series(strains).map(strain_lut)\n",
    "\n",
    "paltest(unique_strains,strain_pal)"
   ]
  },
  {
   "cell_type": "code",
   "execution_count": 68,
   "metadata": {},
   "outputs": [
    {
     "name": "stdout",
     "output_type": "stream",
     "text": [
      "You'll want to set the number of colors to _9_ so that you have one color per unique value.\n"
     ]
    },
    {
     "data": {
      "application/vnd.jupyter.widget-view+json": {
       "model_id": "87f9aa3c9987480a9e210a20a0da058c",
       "version_major": 2,
       "version_minor": 0
      },
      "text/plain": [
       "interactive(children=(Dropdown(description='name', options=('Set1', 'Set2', 'Set3', 'Paired', 'Accent', 'Paste…"
      ]
     },
     "metadata": {},
     "output_type": "display_data"
    }
   ],
   "source": [
    "days = df['Day'].astype(\"str\")\n",
    "unique_days = np.unique(days)\n",
    "\n",
    "## Now let's use an interactive color palette selector\n",
    "print(f\"You'll want to set the number of colors to _{len(unique_days)}_ so that you have one color per unique value.\")\n",
    "\n",
    "day_pal = sns.choose_colorbrewer_palette('q')"
   ]
  },
  {
   "cell_type": "code",
   "execution_count": 73,
   "metadata": {},
   "outputs": [
    {
     "data": {
      "text/plain": [
       "<matplotlib.axes._subplots.AxesSubplot at 0x201a331a390>"
      ]
     },
     "execution_count": 73,
     "metadata": {},
     "output_type": "execute_result"
    },
    {
     "data": {
      "image/png": "[encoded data removed]",
      "text/plain": [
       "<Figure size 648x72 with 1 Axes>"
      ]
     },
     "metadata": {
      "needs_background": "light"
     },
     "output_type": "display_data"
    }
   ],
   "source": [
    "## once color map is selected, we make a 'look-up-table' that tells us what color to map to each value\n",
    "## then make a table that has the color for each sample, based on the strain.\n",
    "day_lut = dict(zip(unique_days, day_pal))\n",
    "strain_cols = pd.Series(days).map(day_lut)\n",
    "\n",
    "\n",
    "paltest = pd.DataFrame(index = unique_days)\n",
    "paltest['test']=1\n",
    "plt.subplots(figsize = (len(unique_days),1))\n",
    "sns.barplot(x=paltest.index, y=paltest.test, palette = day_pal)"
   ]
  },
  {
   "cell_type": "code",
   "execution_count": 78,
   "metadata": {},
   "outputs": [
    {
     "data": {
      "application/vnd.jupyter.widget-view+json": {
       "model_id": "91791e7ae98d477e9fc78a7fee20b293",
       "version_major": 2,
       "version_minor": 0
      },
      "text/plain": [
       "interactive(children=(IntSlider(value=9, description='n_colors', max=16, min=2), FloatSlider(value=0.0, descri…"
      ]
     },
     "metadata": {},
     "output_type": "display_data"
    }
   ],
   "source": [
    "## Lastly lets pick out a color scheme for the heatmap\n",
    "hmap_col = sns.choose_cubehelix_palette()"
   ]
  },
  {
   "cell_type": "code",
   "execution_count": 90,
   "metadata": {
    "scrolled": false
   },
   "outputs": [
    {
     "data": {
      "image/png": "[encoded data removed]",
      "text/plain": [
       "<Figure size 720x720 with 6 Axes>"
      ]
     },
     "metadata": {
      "needs_background": "light"
     },
     "output_type": "display_data"
    }
   ],
   "source": [
    "## generate the distance matrix \n",
    "dists = pdist(data, 'correlation')\n",
    "col_ident_mat = pd.DataFrame(squareform(dists), index=df.index, columns=df.index)\n",
    "\n",
    "colors = pd.DataFrame(strain_cols).merge(pd.DataFrame(day_cols))\n",
    "\n",
    "g = sns.clustermap(col_ident_mat,\n",
    "                   # Turn off the clustering\n",
    "                   row_cluster=False, col_cluster=False,\n",
    "\n",
    "                   # Add colored class labels\n",
    "                   row_colors = day_cols,\n",
    "                   col_colors = strain_cols,\n",
    "                   # Make the plot look better when many rows/cols\n",
    "                   linewidths=0, xticklabels=False, yticklabels=False,\n",
    "\n",
    "                   # use the color scheme selected above for the heatmap\n",
    "                   cmap = hmap_col\n",
    "                  )\n",
    "# Draw the legend bar for the classes                 \n",
    "#for label in df['Day'].unique():\n",
    "#    g.ax_col_dendrogram.bar(0, 0, color=day_lut[label],\n",
    "#                            label=label, linewidth=0)\n",
    "\n",
    "#l1 = g.ax_col_dendrogram.legend(title='Day', loc=\"center\", ncol=5, bbox_to_anchor=(0.47, 0.6))    \n",
    "\n",
    "\n",
    "#for label in df['TC'].unique():\n",
    "#    g.ax_row_dendrogram.bar(0, 0, color=tc_lut[label],\n",
    " #                           label=label, linewidth=0)\n",
    "\n",
    "#l2 = g.ax_row_dendrogram.legend(title='TC', loc=\"right\", ncol=2, bbox_to_anchor=(6, 1.2))\n",
    "    \n",
    "# Adjust the postion of the main colorbar for the heatmap\n",
    "#g.cax.set_position([1, .2, .03, .45])\n"
   ]
  },
  {
   "cell_type": "code",
   "execution_count": 91,
   "metadata": {
    "scrolled": false
   },
   "outputs": [
    {
     "ename": "NameError",
     "evalue": "name 'strain' is not defined",
     "output_type": "error",
     "traceback": [
      "\u001b[1;31m---------------------------------------------------------------------------\u001b[0m",
      "\u001b[1;31mNameError\u001b[0m                                 Traceback (most recent call last)",
      "\u001b[1;32m<ipython-input-91-a7705f2a08e0>\u001b[0m in \u001b[0;36m<module>\u001b[1;34m\u001b[0m\n\u001b[0;32m      1\u001b[0m \u001b[1;33m\u001b[0m\u001b[0m\n\u001b[1;32m----> 2\u001b[1;33m \u001b[1;32mfor\u001b[0m \u001b[0mi\u001b[0m \u001b[1;32min\u001b[0m \u001b[0mrange\u001b[0m\u001b[1;33m(\u001b[0m\u001b[0mlen\u001b[0m\u001b[1;33m(\u001b[0m\u001b[0mnp\u001b[0m\u001b[1;33m.\u001b[0m\u001b[0munique\u001b[0m\u001b[1;33m(\u001b[0m\u001b[0mstrain\u001b[0m\u001b[1;33m)\u001b[0m\u001b[1;33m)\u001b[0m\u001b[1;33m)\u001b[0m\u001b[1;33m:\u001b[0m\u001b[1;33m\u001b[0m\u001b[1;33m\u001b[0m\u001b[0m\n\u001b[0m\u001b[0;32m      3\u001b[0m     \u001b[0msset\u001b[0m \u001b[1;33m=\u001b[0m \u001b[0mdf\u001b[0m\u001b[1;33m.\u001b[0m\u001b[0mloc\u001b[0m\u001b[1;33m[\u001b[0m\u001b[0mdf\u001b[0m\u001b[1;33m[\u001b[0m\u001b[1;34m'Strain'\u001b[0m\u001b[1;33m]\u001b[0m\u001b[1;33m==\u001b[0m \u001b[0munique_strains\u001b[0m\u001b[1;33m[\u001b[0m\u001b[0mi\u001b[0m\u001b[1;33m]\u001b[0m\u001b[1;33m]\u001b[0m\u001b[1;33m\u001b[0m\u001b[1;33m\u001b[0m\u001b[0m\n\u001b[0;32m      4\u001b[0m \u001b[1;33m\u001b[0m\u001b[0m\n\u001b[0;32m      5\u001b[0m     \u001b[1;31m## generate the distance matrix\u001b[0m\u001b[1;33m\u001b[0m\u001b[1;33m\u001b[0m\u001b[1;33m\u001b[0m\u001b[0m\n",
      "\u001b[1;31mNameError\u001b[0m: name 'strain' is not defined"
     ]
    }
   ],
   "source": [
    "\n",
    "for i in range(len(unique_strains)):\n",
    "    sset = df.loc[df['Strain']== unique_strains[i]]\n",
    "\n",
    "    ## generate the distance matrix \n",
    "    ssdists = pdist(sset.iloc[:,4:], 'correlation')\n",
    "    col_ident_mat = pd.DataFrame(squareform(ssdists), index=sset.index)\n",
    "\n",
    "    ## set the label colors so we can see how well the samples cluster by day\n",
    "    day_pal = sns.color_palette('husl', len(sset['Day'].unique()))\n",
    "    day_lut = dict(zip(sset.Day.unique(), day_pal))\n",
    "    day_cols = pd.Series(sset.Day).map(day_lut)\n",
    "    cmap = sns.diverging_palette(h_neg=210, h_pos=350, s=90, l=30, as_cmap=True)\n",
    "    #plt.figure()\n",
    "    g = sns.clustermap(col_ident_mat,\n",
    "                       # Turn off the clustering\n",
    "                       row_cluster=False, col_cluster=False,\n",
    "\n",
    "                       # Add colored class labels\n",
    "                       row_colors = day_cols,                        \n",
    "                       # Make the plot look better when many rows/cols\n",
    "                       linewidths=0, xticklabels=False, yticklabels=True,\n",
    "\n",
    "                       # use the color scheme selected above for the heatmap\n",
    "                       cmap = colmap\n",
    "                      )\n",
    "    # Draw the legend bar for the classes                 \n",
    "    for label in sset['Day'].unique():\n",
    "        g.ax_col_dendrogram.bar(0, 0, color=day_lut[label],\n",
    "                                label=label, linewidth=0)\n",
    "    g.ax_col_dendrogram.legend(loc=\"center\", ncol=3)\n",
    "    g.ax_col_dendrogram.set_xlim([0,0])\n",
    "\n",
    "    # Adjust the postion of the main colorbar for the heatmap\n",
    "    g.cax.set_position([1.2, .2, .03, .45])\n",
    "    g.ax_heatmap.set_title (unique_strains[i])\n"
   ]
  },
  {
   "cell_type": "markdown",
   "metadata": {},
   "source": [
    "Generally, the replicates look like each other, and the hypoxic time points generally stand out. Now let's collapse the replicates, and then convert to log base 2. Why do I do this? Expression data has a log-normal distribution, so it's simpler to plot and understand the data in a log scale. There is nothing magical about a two-fold difference of course, but in my experience even under the best of conditions with minimal noise changes less than two fold are rarely significant. So, having log base 2 means that we can easily see two fold steps in expression."
   ]
  },
  {
   "cell_type": "code",
   "execution_count": null,
   "metadata": {},
   "outputs": [],
   "source": []
  },
  {
   "cell_type": "code",
   "execution_count": null,
   "metadata": {},
   "outputs": [],
   "source": []
  },
  {
   "cell_type": "code",
   "execution_count": null,
   "metadata": {},
   "outputs": [],
   "source": [
    "logdata.loc[['EmptyPlasmid','Rv0023'],'Rv0023']"
   ]
  },
  {
   "cell_type": "markdown",
   "metadata": {},
   "source": [
    "## Interactive heatmap - Clustergrammer\n",
    "\n",
    "This tool by the Ma'ayan lab creates a heatmap that is amazingly easy to use. At least on my computer it has problems with looking at more than a dozen arrays at a time, so here I'll first collapse the replicates and then use Clustergrammer to look at the genes with the largest differences between samples. "
   ]
  },
  {
   "cell_type": "code",
   "execution_count": 106,
   "metadata": {},
   "outputs": [
    {
     "data": {
      "text/html": [
       "<div>\n",
       "<style scoped>\n",
       "    .dataframe tbody tr th:only-of-type {\n",
       "        vertical-align: middle;\n",
       "    }\n",
       "\n",
       "    .dataframe tbody tr th {\n",
       "        vertical-align: top;\n",
       "    }\n",
       "\n",
       "    .dataframe thead th {\n",
       "        text-align: right;\n",
       "    }\n",
       "</style>\n",
       "<table border=\"1\" class=\"dataframe\">\n",
       "  <thead>\n",
       "    <tr style=\"text-align: right;\">\n",
       "      <th></th>\n",
       "      <th>EmptyPlasmid_D0_H5_R1</th>\n",
       "      <th>EmptyPlasmid_D0_H6_R2</th>\n",
       "      <th>EmptyPlasmid_D0_H7_R3</th>\n",
       "      <th>EmptyPlasmid_D0_TC6_R1</th>\n",
       "      <th>EmptyPlasmid_D10_H5_R1</th>\n",
       "      <th>EmptyPlasmid_D10_H6_R2</th>\n",
       "      <th>EmptyPlasmid_D10_H7_R3</th>\n",
       "      <th>EmptyPlasmid_D10_TC6_R1</th>\n",
       "      <th>EmptyPlasmid_D10_TC6_R3</th>\n",
       "      <th>EmptyPlasmid_D11_H5_R1</th>\n",
       "      <th>...</th>\n",
       "      <th>Rv3416_D4_TC6_R3</th>\n",
       "      <th>Rv3416_D7_TC6_R1</th>\n",
       "      <th>Rv3416_D7_TC6_R2</th>\n",
       "      <th>Rv3416_D7_TC6_R3</th>\n",
       "      <th>Rv3416_D8_TC6_R1</th>\n",
       "      <th>Rv3416_D8_TC6_R2</th>\n",
       "      <th>Rv3416_D8_TC6_R3</th>\n",
       "      <th>Rv3416_D9_TC6_R1</th>\n",
       "      <th>Rv3416_D9_TC6_R2</th>\n",
       "      <th>Rv3416_D9_TC6_R3</th>\n",
       "    </tr>\n",
       "  </thead>\n",
       "  <tbody>\n",
       "    <tr>\n",
       "      <th>Strain</th>\n",
       "      <td>EmptyPlasmid</td>\n",
       "      <td>EmptyPlasmid</td>\n",
       "      <td>EmptyPlasmid</td>\n",
       "      <td>EmptyPlasmid</td>\n",
       "      <td>EmptyPlasmid</td>\n",
       "      <td>EmptyPlasmid</td>\n",
       "      <td>EmptyPlasmid</td>\n",
       "      <td>EmptyPlasmid</td>\n",
       "      <td>EmptyPlasmid</td>\n",
       "      <td>EmptyPlasmid</td>\n",
       "      <td>...</td>\n",
       "      <td>Rv3416</td>\n",
       "      <td>Rv3416</td>\n",
       "      <td>Rv3416</td>\n",
       "      <td>Rv3416</td>\n",
       "      <td>Rv3416</td>\n",
       "      <td>Rv3416</td>\n",
       "      <td>Rv3416</td>\n",
       "      <td>Rv3416</td>\n",
       "      <td>Rv3416</td>\n",
       "      <td>Rv3416</td>\n",
       "    </tr>\n",
       "    <tr>\n",
       "      <th>Day</th>\n",
       "      <td>0</td>\n",
       "      <td>0</td>\n",
       "      <td>0</td>\n",
       "      <td>0</td>\n",
       "      <td>10</td>\n",
       "      <td>10</td>\n",
       "      <td>10</td>\n",
       "      <td>10</td>\n",
       "      <td>10</td>\n",
       "      <td>11</td>\n",
       "      <td>...</td>\n",
       "      <td>4</td>\n",
       "      <td>7</td>\n",
       "      <td>7</td>\n",
       "      <td>7</td>\n",
       "      <td>8</td>\n",
       "      <td>8</td>\n",
       "      <td>8</td>\n",
       "      <td>9</td>\n",
       "      <td>9</td>\n",
       "      <td>9</td>\n",
       "    </tr>\n",
       "    <tr>\n",
       "      <th>Oxygen</th>\n",
       "      <td>NaN</td>\n",
       "      <td>NaN</td>\n",
       "      <td>NaN</td>\n",
       "      <td>NaN</td>\n",
       "      <td>NaN</td>\n",
       "      <td>NaN</td>\n",
       "      <td>NaN</td>\n",
       "      <td>NaN</td>\n",
       "      <td>NaN</td>\n",
       "      <td>NaN</td>\n",
       "      <td>...</td>\n",
       "      <td>NaN</td>\n",
       "      <td>NaN</td>\n",
       "      <td>NaN</td>\n",
       "      <td>NaN</td>\n",
       "      <td>NaN</td>\n",
       "      <td>NaN</td>\n",
       "      <td>NaN</td>\n",
       "      <td>NaN</td>\n",
       "      <td>NaN</td>\n",
       "      <td>NaN</td>\n",
       "    </tr>\n",
       "    <tr>\n",
       "      <th>Rv0001</th>\n",
       "      <td>334</td>\n",
       "      <td>293</td>\n",
       "      <td>315</td>\n",
       "      <td>472</td>\n",
       "      <td>379</td>\n",
       "      <td>191</td>\n",
       "      <td>213</td>\n",
       "      <td>292</td>\n",
       "      <td>256</td>\n",
       "      <td>28</td>\n",
       "      <td>...</td>\n",
       "      <td>15</td>\n",
       "      <td>153</td>\n",
       "      <td>108</td>\n",
       "      <td>114</td>\n",
       "      <td>87</td>\n",
       "      <td>103</td>\n",
       "      <td>294</td>\n",
       "      <td>120</td>\n",
       "      <td>38</td>\n",
       "      <td>57</td>\n",
       "    </tr>\n",
       "    <tr>\n",
       "      <th>Rv0002</th>\n",
       "      <td>182</td>\n",
       "      <td>215</td>\n",
       "      <td>252</td>\n",
       "      <td>253</td>\n",
       "      <td>102</td>\n",
       "      <td>93</td>\n",
       "      <td>113</td>\n",
       "      <td>84</td>\n",
       "      <td>126</td>\n",
       "      <td>13</td>\n",
       "      <td>...</td>\n",
       "      <td>19</td>\n",
       "      <td>88</td>\n",
       "      <td>39</td>\n",
       "      <td>46</td>\n",
       "      <td>35</td>\n",
       "      <td>75</td>\n",
       "      <td>200</td>\n",
       "      <td>65</td>\n",
       "      <td>16</td>\n",
       "      <td>31</td>\n",
       "    </tr>\n",
       "  </tbody>\n",
       "</table>\n",
       "<p>5 rows × 186 columns</p>\n",
       "</div>"
      ],
      "text/plain": [
       "       EmptyPlasmid_D0_H5_R1 EmptyPlasmid_D0_H6_R2 EmptyPlasmid_D0_H7_R3  \\\n",
       "Strain          EmptyPlasmid          EmptyPlasmid          EmptyPlasmid   \n",
       "Day                        0                     0                     0   \n",
       "Oxygen                   NaN                   NaN                   NaN   \n",
       "Rv0001                   334                   293                   315   \n",
       "Rv0002                   182                   215                   252   \n",
       "\n",
       "       EmptyPlasmid_D0_TC6_R1 EmptyPlasmid_D10_H5_R1 EmptyPlasmid_D10_H6_R2  \\\n",
       "Strain           EmptyPlasmid           EmptyPlasmid           EmptyPlasmid   \n",
       "Day                         0                     10                     10   \n",
       "Oxygen                    NaN                    NaN                    NaN   \n",
       "Rv0001                    472                    379                    191   \n",
       "Rv0002                    253                    102                     93   \n",
       "\n",
       "       EmptyPlasmid_D10_H7_R3 EmptyPlasmid_D10_TC6_R1 EmptyPlasmid_D10_TC6_R3  \\\n",
       "Strain           EmptyPlasmid            EmptyPlasmid            EmptyPlasmid   \n",
       "Day                        10                      10                      10   \n",
       "Oxygen                    NaN                     NaN                     NaN   \n",
       "Rv0001                    213                     292                     256   \n",
       "Rv0002                    113                      84                     126   \n",
       "\n",
       "       EmptyPlasmid_D11_H5_R1       ...        Rv3416_D4_TC6_R3  \\\n",
       "Strain           EmptyPlasmid       ...                  Rv3416   \n",
       "Day                        11       ...                       4   \n",
       "Oxygen                    NaN       ...                     NaN   \n",
       "Rv0001                     28       ...                      15   \n",
       "Rv0002                     13       ...                      19   \n",
       "\n",
       "       Rv3416_D7_TC6_R1 Rv3416_D7_TC6_R2 Rv3416_D7_TC6_R3 Rv3416_D8_TC6_R1  \\\n",
       "Strain           Rv3416           Rv3416           Rv3416           Rv3416   \n",
       "Day                   7                7                7                8   \n",
       "Oxygen              NaN              NaN              NaN              NaN   \n",
       "Rv0001              153              108              114               87   \n",
       "Rv0002               88               39               46               35   \n",
       "\n",
       "       Rv3416_D8_TC6_R2 Rv3416_D8_TC6_R3 Rv3416_D9_TC6_R1 Rv3416_D9_TC6_R2  \\\n",
       "Strain           Rv3416           Rv3416           Rv3416           Rv3416   \n",
       "Day                   8                8                9                9   \n",
       "Oxygen              NaN              NaN              NaN              NaN   \n",
       "Rv0001              103              294              120               38   \n",
       "Rv0002               75              200               65               16   \n",
       "\n",
       "       Rv3416_D9_TC6_R3  \n",
       "Strain           Rv3416  \n",
       "Day                   9  \n",
       "Oxygen              NaN  \n",
       "Rv0001               57  \n",
       "Rv0002               31  \n",
       "\n",
       "[5 rows x 186 columns]"
      ]
     },
     "execution_count": 106,
     "metadata": {},
     "output_type": "execute_result"
    }
   ],
   "source": [
    "# convert df in Clustergrammer format\n",
    "df2 = df.T\n",
    "newlabs = df2.loc['Oxygen',:].add_prefix('Oxygen: ')\n",
    "df2.loc['Oxygen',:]=newlabs\n",
    "# check the size and type of the imported data\n",
    "df2.head()"
   ]
  },
  {
   "cell_type": "code",
   "execution_count": 107,
   "metadata": {},
   "outputs": [],
   "source": [
    "# instantiate a Network instance with the widget class as an argument\n",
    "net = Network(clustergrammer_widget)\n",
    "\n",
    "# import data into clustergrammer\n",
    "net.load_file('./data/CORRtable2.txt')\n",
    "\n",
    "# normalize values to z-scores (i.e. how many st dev from the mean)\n",
    "net.normalize(axis='row', norm_type='zscore', keep_orig=True)\n",
    "\n",
    "# cluster using default parameters\n",
    "net.cluster()\n"
   ]
  },
  {
   "cell_type": "code",
   "execution_count": 95,
   "metadata": {},
   "outputs": [],
   "source": [
    "net.filter_N_top('row', 20, 'sum')"
   ]
  },
  {
   "cell_type": "code",
   "execution_count": 108,
   "metadata": {},
   "outputs": [
    {
     "data": {
      "application/vnd.jupyter.widget-view+json": {
       "model_id": "42660efd96f948fa811d588ec6311a08",
       "version_major": 2,
       "version_minor": 0
      },
      "text/plain": [
       "clustergrammer_widget(network='{\"row_nodes\": [{\"name\": \"Rv0001\", \"ini\": 4030, \"clust\": 2954, \"rank\": 752, \"ran…"
      ]
     },
     "metadata": {},
     "output_type": "display_data"
    }
   ],
   "source": [
    "# make interactive widget\n",
    "net.widget()"
   ]
  },
  {
   "cell_type": "code",
   "execution_count": 109,
   "metadata": {},
   "outputs": [],
   "source": [
    "## average replicates, convert to log base 2, and round to two significant digits\n",
    "logdata = df.groupby(['Strain', 'Day']).mean()\n",
    "logdata = np.log2(logdata)\n",
    "logdata = np.round(logdata, decimals=2)"
   ]
  },
  {
   "cell_type": "code",
   "execution_count": 110,
   "metadata": {},
   "outputs": [
    {
     "data": {
      "text/html": [
       "<div>\n",
       "<style scoped>\n",
       "    .dataframe tbody tr th:only-of-type {\n",
       "        vertical-align: middle;\n",
       "    }\n",
       "\n",
       "    .dataframe tbody tr th {\n",
       "        vertical-align: top;\n",
       "    }\n",
       "\n",
       "    .dataframe thead th {\n",
       "        text-align: right;\n",
       "    }\n",
       "</style>\n",
       "<table border=\"1\" class=\"dataframe\">\n",
       "  <thead>\n",
       "    <tr style=\"text-align: right;\">\n",
       "      <th></th>\n",
       "      <th></th>\n",
       "      <th>Rv0001</th>\n",
       "      <th>Rv0002</th>\n",
       "      <th>Rv0003</th>\n",
       "      <th>Rv0004</th>\n",
       "      <th>Rv0005</th>\n",
       "      <th>Rv0006</th>\n",
       "      <th>Rv0007</th>\n",
       "      <th>Rv0008c</th>\n",
       "      <th>Rv0009</th>\n",
       "      <th>Rv0010c</th>\n",
       "      <th>...</th>\n",
       "      <th>Rv3915</th>\n",
       "      <th>Rv3916c</th>\n",
       "      <th>Rv3917c</th>\n",
       "      <th>Rv3918c</th>\n",
       "      <th>Rv3919c</th>\n",
       "      <th>Rv3920c</th>\n",
       "      <th>Rv3921c</th>\n",
       "      <th>Rv3922c</th>\n",
       "      <th>Rv3923c</th>\n",
       "      <th>Rv3924c</th>\n",
       "    </tr>\n",
       "    <tr>\n",
       "      <th>Strain</th>\n",
       "      <th>Day</th>\n",
       "      <th></th>\n",
       "      <th></th>\n",
       "      <th></th>\n",
       "      <th></th>\n",
       "      <th></th>\n",
       "      <th></th>\n",
       "      <th></th>\n",
       "      <th></th>\n",
       "      <th></th>\n",
       "      <th></th>\n",
       "      <th></th>\n",
       "      <th></th>\n",
       "      <th></th>\n",
       "      <th></th>\n",
       "      <th></th>\n",
       "      <th></th>\n",
       "      <th></th>\n",
       "      <th></th>\n",
       "      <th></th>\n",
       "      <th></th>\n",
       "      <th></th>\n",
       "    </tr>\n",
       "  </thead>\n",
       "  <tbody>\n",
       "    <tr>\n",
       "      <th rowspan=\"5\" valign=\"top\">EmptyPlasmid</th>\n",
       "      <th>0</th>\n",
       "      <td>8.47</td>\n",
       "      <td>7.82</td>\n",
       "      <td>7.11</td>\n",
       "      <td>7.26</td>\n",
       "      <td>10.26</td>\n",
       "      <td>9.70</td>\n",
       "      <td>8.78</td>\n",
       "      <td>6.23</td>\n",
       "      <td>10.04</td>\n",
       "      <td>9.37</td>\n",
       "      <td>...</td>\n",
       "      <td>8.70</td>\n",
       "      <td>8.24</td>\n",
       "      <td>8.81</td>\n",
       "      <td>8.47</td>\n",
       "      <td>9.06</td>\n",
       "      <td>10.50</td>\n",
       "      <td>10.08</td>\n",
       "      <td>10.14</td>\n",
       "      <td>10.20</td>\n",
       "      <td>10.15</td>\n",
       "    </tr>\n",
       "    <tr>\n",
       "      <th>2</th>\n",
       "      <td>8.69</td>\n",
       "      <td>8.29</td>\n",
       "      <td>7.55</td>\n",
       "      <td>7.51</td>\n",
       "      <td>10.33</td>\n",
       "      <td>9.67</td>\n",
       "      <td>8.43</td>\n",
       "      <td>6.47</td>\n",
       "      <td>10.57</td>\n",
       "      <td>9.74</td>\n",
       "      <td>...</td>\n",
       "      <td>8.81</td>\n",
       "      <td>8.29</td>\n",
       "      <td>8.55</td>\n",
       "      <td>8.21</td>\n",
       "      <td>8.97</td>\n",
       "      <td>10.65</td>\n",
       "      <td>10.36</td>\n",
       "      <td>10.78</td>\n",
       "      <td>10.87</td>\n",
       "      <td>10.85</td>\n",
       "    </tr>\n",
       "    <tr>\n",
       "      <th>4</th>\n",
       "      <td>6.67</td>\n",
       "      <td>5.84</td>\n",
       "      <td>4.60</td>\n",
       "      <td>5.42</td>\n",
       "      <td>9.27</td>\n",
       "      <td>8.10</td>\n",
       "      <td>7.53</td>\n",
       "      <td>6.29</td>\n",
       "      <td>7.55</td>\n",
       "      <td>6.92</td>\n",
       "      <td>...</td>\n",
       "      <td>8.65</td>\n",
       "      <td>9.34</td>\n",
       "      <td>7.12</td>\n",
       "      <td>6.41</td>\n",
       "      <td>6.47</td>\n",
       "      <td>6.25</td>\n",
       "      <td>5.50</td>\n",
       "      <td>5.61</td>\n",
       "      <td>6.80</td>\n",
       "      <td>7.62</td>\n",
       "    </tr>\n",
       "    <tr>\n",
       "      <th>7</th>\n",
       "      <td>7.19</td>\n",
       "      <td>7.33</td>\n",
       "      <td>6.30</td>\n",
       "      <td>6.16</td>\n",
       "      <td>9.14</td>\n",
       "      <td>8.05</td>\n",
       "      <td>7.32</td>\n",
       "      <td>6.69</td>\n",
       "      <td>9.95</td>\n",
       "      <td>9.31</td>\n",
       "      <td>...</td>\n",
       "      <td>8.81</td>\n",
       "      <td>8.98</td>\n",
       "      <td>7.83</td>\n",
       "      <td>7.45</td>\n",
       "      <td>8.01</td>\n",
       "      <td>9.08</td>\n",
       "      <td>9.31</td>\n",
       "      <td>10.30</td>\n",
       "      <td>10.41</td>\n",
       "      <td>10.24</td>\n",
       "    </tr>\n",
       "    <tr>\n",
       "      <th>8</th>\n",
       "      <td>7.12</td>\n",
       "      <td>6.23</td>\n",
       "      <td>5.95</td>\n",
       "      <td>6.15</td>\n",
       "      <td>9.30</td>\n",
       "      <td>8.30</td>\n",
       "      <td>7.41</td>\n",
       "      <td>7.04</td>\n",
       "      <td>9.18</td>\n",
       "      <td>8.57</td>\n",
       "      <td>...</td>\n",
       "      <td>8.74</td>\n",
       "      <td>8.77</td>\n",
       "      <td>7.62</td>\n",
       "      <td>7.17</td>\n",
       "      <td>7.99</td>\n",
       "      <td>8.88</td>\n",
       "      <td>9.04</td>\n",
       "      <td>10.27</td>\n",
       "      <td>10.68</td>\n",
       "      <td>11.00</td>\n",
       "    </tr>\n",
       "  </tbody>\n",
       "</table>\n",
       "<p>5 rows × 4030 columns</p>\n",
       "</div>"
      ],
      "text/plain": [
       "                  Rv0001  Rv0002  Rv0003  Rv0004  Rv0005  Rv0006  Rv0007  \\\n",
       "Strain       Day                                                           \n",
       "EmptyPlasmid 0      8.47    7.82    7.11    7.26   10.26    9.70    8.78   \n",
       "             2      8.69    8.29    7.55    7.51   10.33    9.67    8.43   \n",
       "             4      6.67    5.84    4.60    5.42    9.27    8.10    7.53   \n",
       "             7      7.19    7.33    6.30    6.16    9.14    8.05    7.32   \n",
       "             8      7.12    6.23    5.95    6.15    9.30    8.30    7.41   \n",
       "\n",
       "                  Rv0008c  Rv0009  Rv0010c   ...     Rv3915  Rv3916c  Rv3917c  \\\n",
       "Strain       Day                             ...                                \n",
       "EmptyPlasmid 0       6.23   10.04     9.37   ...       8.70     8.24     8.81   \n",
       "             2       6.47   10.57     9.74   ...       8.81     8.29     8.55   \n",
       "             4       6.29    7.55     6.92   ...       8.65     9.34     7.12   \n",
       "             7       6.69    9.95     9.31   ...       8.81     8.98     7.83   \n",
       "             8       7.04    9.18     8.57   ...       8.74     8.77     7.62   \n",
       "\n",
       "                  Rv3918c  Rv3919c  Rv3920c  Rv3921c  Rv3922c  Rv3923c  \\\n",
       "Strain       Day                                                         \n",
       "EmptyPlasmid 0       8.47     9.06    10.50    10.08    10.14    10.20   \n",
       "             2       8.21     8.97    10.65    10.36    10.78    10.87   \n",
       "             4       6.41     6.47     6.25     5.50     5.61     6.80   \n",
       "             7       7.45     8.01     9.08     9.31    10.30    10.41   \n",
       "             8       7.17     7.99     8.88     9.04    10.27    10.68   \n",
       "\n",
       "                  Rv3924c  \n",
       "Strain       Day           \n",
       "EmptyPlasmid 0      10.15  \n",
       "             2      10.85  \n",
       "             4       7.62  \n",
       "             7      10.24  \n",
       "             8      11.00  \n",
       "\n",
       "[5 rows x 4030 columns]"
      ]
     },
     "execution_count": 110,
     "metadata": {},
     "output_type": "execute_result"
    }
   ],
   "source": [
    "logdata.head()"
   ]
  },
  {
   "cell_type": "code",
   "execution_count": 111,
   "metadata": {},
   "outputs": [
    {
     "name": "stdout",
     "output_type": "stream",
     "text": [
      "PCA done! Time elapsed: 0.07296967506408691  seconds\n"
     ]
    }
   ],
   "source": [
    "# First we will generate a PCA plot to collapse all of the gene expression values (dimensions) in a way that maximizes difference between samples\n",
    "\n",
    "\n",
    "time_start = time.time()\n",
    "\n",
    "pca = PCA(n_components=4)\n",
    "pca_result = pca.fit_transform(logdata)\n",
    "elapsed = time.time()-time_start\n",
    "print (\"PCA done! Time elapsed:\",elapsed,\" seconds\")"
   ]
  },
  {
   "cell_type": "markdown",
   "metadata": {},
   "source": [
    "Now let's make a function to plot the data from PCA (and later tSNE) plots"
   ]
  },
  {
   "cell_type": "code",
   "execution_count": null,
   "metadata": {},
   "outputs": [],
   "source": [
    "#fashion_scatter(top_two_comp.values,types)\n",
    "colors = types\n",
    "x = top_two_comp\n",
    "\n",
    "\n",
    "\n",
    "palette.shape"
   ]
  },
  {
   "cell_type": "code",
   "execution_count": null,
   "metadata": {},
   "outputs": [],
   "source": [
    "dir(net)"
   ]
  },
  {
   "cell_type": "markdown",
   "metadata": {},
   "source": [
    "Now we collect the PCA data into a new data frame for plotting and calculate how much of the sample variance can be described by each component."
   ]
  },
  {
   "cell_type": "code",
   "execution_count": 112,
   "metadata": {},
   "outputs": [
    {
     "name": "stdout",
     "output_type": "stream",
     "text": [
      "Variance explained per principal component:  [0.5959668  0.119129   0.05803857 0.047319  ]\n"
     ]
    }
   ],
   "source": [
    "pca_df = pd.DataFrame(columns = ['pca1','pca2','pca3','pca4'])\n",
    "\n",
    "pca_df['pca1'] = pca_result[:,0]\n",
    "pca_df['pca2'] = pca_result[:,1]\n",
    "pca_df['pca3'] = pca_result[:,2]\n",
    "pca_df['pca4'] = pca_result[:,3]\n",
    "\n",
    "print (\"Variance explained per principal component: \", pca.explained_variance_ratio_)"
   ]
  },
  {
   "cell_type": "code",
   "execution_count": null,
   "metadata": {},
   "outputs": [],
   "source": [
    "colors, cats = pd.factorize(types)"
   ]
  },
  {
   "cell_type": "code",
   "execution_count": 113,
   "metadata": {},
   "outputs": [
    {
     "ename": "NameError",
     "evalue": "name 'palette' is not defined",
     "output_type": "error",
     "traceback": [
      "\u001b[1;31m---------------------------------------------------------------------------\u001b[0m",
      "\u001b[1;31mNameError\u001b[0m                                 Traceback (most recent call last)",
      "\u001b[1;32m<ipython-input-113-7dfd51a16f0d>\u001b[0m in \u001b[0;36m<module>\u001b[1;34m\u001b[0m\n\u001b[0;32m      1\u001b[0m \u001b[0mtop_two_comp\u001b[0m \u001b[1;33m=\u001b[0m \u001b[0mpca_df\u001b[0m\u001b[1;33m[\u001b[0m\u001b[1;33m[\u001b[0m\u001b[1;34m'pca1'\u001b[0m\u001b[1;33m,\u001b[0m\u001b[1;34m'pca2'\u001b[0m\u001b[1;33m]\u001b[0m\u001b[1;33m]\u001b[0m \u001b[1;31m# taking first and second principal component\u001b[0m\u001b[1;33m\u001b[0m\u001b[1;33m\u001b[0m\u001b[0m\n\u001b[0;32m      2\u001b[0m \u001b[1;33m\u001b[0m\u001b[0m\n\u001b[1;32m----> 3\u001b[1;33m \u001b[0msns\u001b[0m\u001b[1;33m.\u001b[0m\u001b[0mscatterplot\u001b[0m\u001b[1;33m(\u001b[0m\u001b[0mx\u001b[0m \u001b[1;33m=\u001b[0m \u001b[0mpca_df\u001b[0m\u001b[1;33m[\u001b[0m\u001b[1;34m'pca1'\u001b[0m\u001b[1;33m]\u001b[0m\u001b[1;33m,\u001b[0m \u001b[0my\u001b[0m \u001b[1;33m=\u001b[0m \u001b[0mpca_df\u001b[0m\u001b[1;33m[\u001b[0m\u001b[1;34m'pca2'\u001b[0m\u001b[1;33m]\u001b[0m\u001b[1;33m,\u001b[0m \u001b[0mhue\u001b[0m \u001b[1;33m=\u001b[0m \u001b[0mtypes\u001b[0m\u001b[1;33m,\u001b[0m \u001b[0mpalette\u001b[0m \u001b[1;33m=\u001b[0m \u001b[0mpalette\u001b[0m\u001b[1;33m)\u001b[0m \u001b[1;31m# Visualizing the PCA output\u001b[0m\u001b[1;33m\u001b[0m\u001b[1;33m\u001b[0m\u001b[0m\n\u001b[0m",
      "\u001b[1;31mNameError\u001b[0m: name 'palette' is not defined"
     ]
    }
   ],
   "source": [
    "top_two_comp = pca_df[['pca1','pca2']] # taking first and second principal component\n",
    "\n",
    "sns.scatterplot(x = pca_df['pca1'], y = pca_df['pca2'], hue = types, palette = palette) # Visualizing the PCA output"
   ]
  },
  {
   "cell_type": "code",
   "execution_count": null,
   "metadata": {},
   "outputs": [],
   "source": []
  },
  {
   "cell_type": "code",
   "execution_count": null,
   "metadata": {},
   "outputs": [],
   "source": []
  },
  {
   "cell_type": "code",
   "execution_count": null,
   "metadata": {},
   "outputs": [],
   "source": []
  }
 ],
 "metadata": {
  "kernelspec": {
   "display_name": "Python 3",
   "language": "python",
   "name": "python3"
  },
  "language_info": {
   "codemirror_mode": {
    "name": "ipython",
    "version": 3
   },
   "file_extension": ".py",
   "mimetype": "text/x-python",
   "name": "python",
   "nbconvert_exporter": "python",
   "pygments_lexer": "ipython3",
   "version": "3.6.7"
  }
 },
 "nbformat": 4,
 "nbformat_minor": 2
}
